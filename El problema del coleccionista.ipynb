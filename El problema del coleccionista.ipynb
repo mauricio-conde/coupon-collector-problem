{
 "cells": [
  {
   "cell_type": "markdown",
   "metadata": {
    "collapsed": false
   },
   "source": [
    "<center > <h2>EL PROBLEMA DEL COLECCIONISTA</h2><center>\n",
    "<center><h5>Versión Álbum del FIFA World Cup Qatar 2022™ de Panini</h5></center>\n",
    "<center>Mauricio Conde - Matías Zieleniec</center>\n",
    "\n"
   ]
  },
  {
   "cell_type": "markdown",
   "metadata": {
    "collapsed": false
   },
   "source": [
    "En este proyecto se trata de estimar la cantidad de sobres necesarios para completar el Álbum del Mundial de Catar 2022 en función de varios factores. El principal factor es la cantidad de personas con las que se intercambian las figuritas repetidas, ¿cuál es el promedio de sobres necesarios para completar el álbum si se colecciona con un grupo de 10 personas?, ¿y de a 5?, ¿y solo? Estas preguntas y más tratamos de responder a lo largo de este informe.\n",
    "\n",
    "Para fijar ideas y poner algunas cosas en común debemos de tener en cuenta algunos factores:\n",
    "\n",
    "- El álbum cuenta con 670 cromos \\(sin contar las legendarias, que no fueron tomadas en cuenta para esta investigación\\).\n",
    "- Según Panini —la empresa que comercializa el álbum— no hay figuritas más difíciles de conseguir que otras, por lo tanto asumimos que todas son equiprobables.  \n",
    "\n"
   ]
  },
  {
   "cell_type": "markdown",
   "metadata": {
    "collapsed": false
   },
   "source": [
    "**Tema:** Colección del álbum de figuritas del mundial\n",
    "\n",
    "**Grupo:** Mauricio Conde y Matías Zieleniec\n",
    "\n",
    "**Objetivos:**  Estudiar cuantas figuritas \\(sobres\\) llevaria completar el album en distintos casos.\n",
    "\n",
    "**Asumimos:** Todas las figuritas son equiprobables, eliminamos las extras \\(ya que complejizarían mucho el modelo\\), en un sobre todas las figuritas son distintas, y  \n",
    "que toda figurita cumple su función \\(no se rompe, pierde, se pega, etc\\). Además en los cambios solo se intercambian repetidas por faltantes.\n",
    "\n",
    "**Casos:**\n",
    "\n",
    "1. Colección individual, sin cambiar figuritas. Estudiar esperanza y varianza del mismo simulando varios casos. De este estudiar su comportamiento de forma matemática y comparar con lo obtenido.\n",
    "2. Colección cambiando figuritas con \"n\" personas. Observar como afecta esto la cantidad de figuritas necesarias para completar si cambiamos las repetidas. Estudiar tendencias con el crecimiento de n. Ver tambien que pasa con  \n",
    "   el ritmo en el que uno va comprando figuritas \\(sobres\\), ¿qué tanto afecta el llenado?\n",
    "3. Colección mas realista donde se intercambian figuritas repetidas y además hay figuritas mas valiosas que las otras \\(tal como brillantes, messi, uruguayos, etc\\).\n",
    "4. Cuantas veces le puede llegar a tocar una figurita a una persona \\(Si da el tiempo\\).\n",
    "\n",
    "**Linea de tiempo**\n",
    "\n",
    "1. Hablar con alguien que se especialice en probabilidad para que nos oriente en hacer un modelo matematico parecido a [https://en.wikipedia.org/wiki/Coupon\\_collector's\\_problem](https://en.wikipedia.org/wiki/Coupon_collector's_problem) de cuanto sería la esperanza y varianza del llenado con sobres. Que cheque si nuestras cuentas iniciales están bien \\(en cuanto antes\\).\n",
    "2. Hacer el primer algoritmo y hacer conclusiones, graficar y demás \\(10/10 hasta 16/10\\).\n",
    "3. Hacer el segundo \\(17/10 al 27/10\\).\n",
    "4. Hacer el tercero \\(28/10 al 4/11\\).\n",
    "5. Y evaluar la pregunta \\(al final\\).\n",
    "\n",
    "**Producto final**\n",
    "\n",
    "Presentación con algoritmos, gráficos, resultados, análisis matemático e imágenes ilustrativas.  \n",
    "\n"
   ]
  },
  {
   "cell_type": "markdown",
   "metadata": {
    "collapsed": false
   },
   "source": [
    "Bibliografía:\n",
    "\n",
    "- Cardiff University \\- World Cup stickers \\(2018\\) \\- [https://www.cardiff.ac.uk/news/view/1136091\\-world\\-cup\\-stickers](https://www.cardiff.ac.uk/news/view/1136091-world-cup-stickers)\n",
    "- Infobae \\- El álbum del Mundial 2022 \\(2022\\) \\- [https://www.infobae.com/economia/2022/08/24/el\\-album\\-del\\-mundial\\-2022\\-como\\-es\\-la\\-mejor\\-estrategia\\-para\\-llenarlo\\-al\\-costo\\-mas\\-bajo/](https://www.infobae.com/economia/2022/08/24/el-album-del-mundial-2022-como-es-la-mejor-estrategia-para-llenarlo-al-costo-mas-bajo/)  \n",
    "\n"
   ]
  },
  {
   "cell_type": "markdown",
   "metadata": {
    "collapsed": false
   },
   "source": [
    "### <span style='color:#f44336'>Paquetes necesarios</span>\n",
    "\n"
   ]
  },
  {
   "cell_type": "code",
   "execution_count": 1,
   "metadata": {
    "collapsed": false
   },
   "outputs": [
   ],
   "source": [
    "import random # Necesario para abrir sobres, está acá para no tener que ejecutarlo tantas veces innecesariamente.\n",
    "import numpy as np # Necesario para hacer promedio en la parte de histograma.\n",
    "import matplotlib # Necesario para los colores de cada coleccionista en la función coleccion()\n",
    "import matplotlib.pyplot as plt\n",
    "import multiprocessing # https://www.cienciadedatos.net/documentos/py12-paralelizar-con-python.html\n",
    "global M # En esta lista almacenaremos coleccionistas. Lo utilizaremos más adelante."
   ]
  },
  {
   "cell_type": "markdown",
   "metadata": {
    "collapsed": false
   },
   "source": [
    "### <span style='color:#16a5a5'>Algoritmo 1: Llenado individual</span>\n",
    "\n"
   ]
  },
  {
   "cell_type": "code",
   "execution_count": 2,
   "metadata": {
    "collapsed": false
   },
   "outputs": [
   ],
   "source": [
    "def completo(M,i):\n",
    "    lleno= True\n",
    "    j=0\n",
    "    filas, columnas = M.dimensions()\n",
    "    while lleno and j< columnas:\n",
    "        if M[i,j]==0:\n",
    "            lleno= False\n",
    "        else:\n",
    "            j=j+1\n",
    "    return lleno"
   ]
  },
  {
   "cell_type": "code",
   "execution_count": 3,
   "metadata": {
    "collapsed": false
   },
   "outputs": [
   ],
   "source": [
    "def coleccion(fig,sob = 1,graf = False,rep = False):\n",
    "\n",
    "    \"\"\"\n",
    "    Simula la cantidad de sobres de figuritas necesarios para completar un álbum.\n",
    "\n",
    "    ARGUMENTOS:\n",
    "\n",
    "    * \"fig\" -- cantidad de figuritas diferentes necesarias para llenar el álbum.\n",
    "\n",
    "    * \"sob\" -- cantidad de figuritas que vienen en cada sobre.\n",
    "\n",
    "    * \"graf\" -- (booleano) representa si se imprime una gráfica que representa la cantidad de figuritas diferentes obtenidas en función del tiempo. Este argumento es opcional y está predefinido en \"False\".\n",
    "\n",
    "    * \"rep\" -- (booleano) representa si en cada sobre pueden encontrarse figuritas repetidas. Este argumento es opcional y está predefinido en \"False\".\n",
    "\n",
    "    SALIDA:\n",
    "\n",
    "    Un entero que representa la cantidad de sobres que se necesitaron para completar el álbum.\n",
    "\n",
    "    En caso de que \"graf\" sea \"True\" incluirá una gráfica que representa la cantidad de figuritas diferentes obtenidas en función del tiempo.\n",
    "    \"\"\"\n",
    "    M= zero_matrix(1,fig)\n",
    "    l=[i for i in range(0,fig)]\n",
    "    if rep:\n",
    "        cont=0\n",
    "        s=0\n",
    "        r=[0] # Lista que almacena la cantidad de figuritas pegadas sobre por sobre.\n",
    "        while not completo(M,0):\n",
    "            g=random.choices(l,k = sob)\n",
    "            for i in range (0,sob):\n",
    "                M[0,g[i]]=M[0,g[i]]+1\n",
    "            cont=cont+1\n",
    "            s=0\n",
    "            for h in range(0, fig): # Cantidad de figuritas pegadas.\n",
    "                if M[0,h] > 0:\n",
    "                    s = s+1\n",
    "            r.append(s)\n",
    "    else:\n",
    "        cont=0\n",
    "        s=0\n",
    "        r=[0] # Lista que almacena la cantidad de figuritas pegadas sobre por sobre.\n",
    "        while not completo(M,0):\n",
    "            g= random.sample(l,sob)\n",
    "            for i in range (0,sob):\n",
    "                M[0,g[i]]=M[0,g[i]]+1\n",
    "            cont=cont+1\n",
    "            s=0\n",
    "            for h in range(0, fig): # Cantidad de figuritas pegadas.\n",
    "                if M[0,h] > 0:\n",
    "                    s = s+1\n",
    "            r.append(s)\n",
    "    if graf:\n",
    "        import matplotlib.pyplot as plt\n",
    "        plt.plot(r, color='magenta', marker='o',mfc='pink' )\n",
    "    return(cont)"
   ]
  },
  {
   "cell_type": "code",
   "execution_count": 15,
   "metadata": {
    "collapsed": false
   },
   "outputs": [
    {
     "data": {
      "text/plain": [
       "287"
      ]
     },
     "execution_count": 15,
     "metadata": {
     },
     "output_type": "execute_result"
    },
    {
     "data": {
      "image/png": "[encoded data removed]",
      "text/plain": [
       "<Figure size 432x288 with 1 Axes>"
      ]
     },
     "execution_count": 15,
     "metadata": {
      "needs_background": "light"
     },
     "output_type": "execute_result"
    }
   ],
   "source": [
    "coleccion(50,1,True,True)"
   ]
  },
  {
   "cell_type": "code",
   "execution_count": 46,
   "metadata": {
    "collapsed": false
   },
   "outputs": [
    {
     "data": {
      "text/plain": [
       "421"
      ]
     },
     "execution_count": 46,
     "metadata": {
     },
     "output_type": "execute_result"
    },
    {
     "data": {
      "image/png": "[encoded data removed]",
      "text/plain": [
       "<Figure size 432x288 with 1 Axes>"
      ]
     },
     "execution_count": 46,
     "metadata": {
      "needs_background": "light"
     },
     "output_type": "execute_result"
    }
   ],
   "source": [
    "coleccion(500,10,True,False)"
   ]
  },
  {
   "cell_type": "code",
   "execution_count": 21,
   "metadata": {
    "collapsed": false
   },
   "outputs": [
    {
     "data": {
      "image/png": "[encoded data removed]",
      "text/plain": [
       "<Figure size 432x288 with 1 Axes>"
      ]
     },
     "execution_count": 21,
     "metadata": {
      "needs_background": "light"
     },
     "output_type": "execute_result"
    },
    {
     "data": {
      "text/plain": [
       "229.61666666666667"
      ]
     },
     "execution_count": 21,
     "metadata": {
     },
     "output_type": "execute_result"
    }
   ],
   "source": [
    "l=[]\n",
    "for i in range(300):\n",
    "    l.append(coleccion(50,1,False,False))\n",
    "plt.hist(l, bins=50, color='#F2AB6D', rwidth=10000)\n",
    "plt.title('Histograma de cantidad de sobres')\n",
    "plt.xlabel('Cantidad de sobres')\n",
    "plt.ylabel('Frecuencia')\n",
    "\n",
    "\n",
    "plt.show() \n",
    "\n",
    "np.mean(l)\n",
    "#La esperanza es 225 y sa bastante cerca"
   ]
  },
  {
   "cell_type": "code",
   "execution_count": 22,
   "metadata": {
    "collapsed": false
   },
   "outputs": [
    {
     "data": {
      "text/plain": [
       "916"
      ]
     },
     "execution_count": 22,
     "metadata": {
     },
     "output_type": "execute_result"
    },
    {
     "data": {
      "image/png": "[encoded data removed]",
      "text/plain": [
       "<Figure size 432x288 with 1 Axes>"
      ]
     },
     "execution_count": 22,
     "metadata": {
      "needs_background": "light"
     },
     "output_type": "execute_result"
    }
   ],
   "source": [
    "#Llenado de figuritas del album Qatar 2022, sin repetidas por sobre\n",
    "coleccion(670,5,True,False)"
   ]
  },
  {
   "cell_type": "code",
   "execution_count": 23,
   "metadata": {
    "collapsed": false
   },
   "outputs": [
    {
     "data": {
      "text/plain": [
       "888"
      ]
     },
     "execution_count": 23,
     "metadata": {
     },
     "output_type": "execute_result"
    },
    {
     "data": {
      "image/png": "[encoded data removed]",
      "text/plain": [
       "<Figure size 432x288 with 1 Axes>"
      ]
     },
     "execution_count": 23,
     "metadata": {
      "needs_background": "light"
     },
     "output_type": "execute_result"
    }
   ],
   "source": [
    "#Llenado de figuritas del album Qatar 2022, con repetidas por sobre\n",
    "coleccion(670,5,True,True)"
   ]
  },
  {
   "cell_type": "code",
   "execution_count": 24,
   "metadata": {
    "collapsed": false
   },
   "outputs": [
    {
     "data": {
      "image/png": "[encoded data removed]",
      "text/plain": [
       "<Figure size 432x288 with 1 Axes>"
      ]
     },
     "execution_count": 24,
     "metadata": {
      "needs_background": "light"
     },
     "output_type": "execute_result"
    },
    {
     "data": {
      "text/plain": [
       "963.5566666666666"
      ]
     },
     "execution_count": 24,
     "metadata": {
     },
     "output_type": "execute_result"
    }
   ],
   "source": [
    "l=[]\n",
    "for i in range(300):\n",
    "    l.append(coleccion(670,5,False,False))\n",
    "plt.hist(l, bins=50, color='#F2AB6D', rwidth=10000)\n",
    "plt.title('Histograma de cantidad de sobres')\n",
    "plt.xlabel('Cantidad de sobres')\n",
    "plt.ylabel('Frecuencia')\n",
    "\n",
    "\n",
    "plt.show() \n",
    "\n",
    "np.mean(l)\n",
    "#La esperanza es mayor a 900..."
   ]
  },
  {
   "cell_type": "code",
   "execution_count": 7,
   "metadata": {
    "collapsed": false
   },
   "outputs": [
    {
     "data": {
      "image/png": "[encoded data removed]",
      "text/plain": [
       "<Figure size 432x288 with 1 Axes>"
      ]
     },
     "execution_count": 7,
     "metadata": {
      "needs_background": "light"
     },
     "output_type": "execute_result"
    },
    {
     "data": {
      "text/plain": [
       "958.1233333333333"
      ]
     },
     "execution_count": 7,
     "metadata": {
     },
     "output_type": "execute_result"
    }
   ],
   "source": [
    "l=[]\n",
    "for i in range(300):\n",
    "    l.append(coleccion(670,5,False,True))\n",
    "plt.hist(l, bins=50, color='#F2AB6D', rwidth=10000)\n",
    "plt.title('Histograma de cantidad de sobres')\n",
    "plt.xlabel('Cantidad de sobres')\n",
    "plt.ylabel('Frecuencia')\n",
    "\n",
    "\n",
    "plt.show() \n",
    "\n",
    "np.mean(l)\n",
    "#La esperanza es mayor a 900..."
   ]
  },
  {
   "cell_type": "code",
   "execution_count": 45,
   "metadata": {
    "collapsed": false
   },
   "outputs": [
   ],
   "source": [
    "def segun_figuritas(fig:list, repeticiones: int = 15, graficar:bool=True):\n",
    "    \"\"\"\n",
    "    Repite 'repeticiones' veces una colección para cada persona en 'personas'.\n",
    "\n",
    "    ARGUMENTOS:\n",
    "\n",
    "    * \"personas\" -- intervalo de personas que se graficará.\n",
    "\n",
    "    * \"sob\" -- cantidad de figuritas por sobre.\n",
    "\n",
    "    * \"fig\" -- cantidad total de figuritas para completar el álbum.\n",
    "\n",
    "    SALIDA:\n",
    "\n",
    "    Un gráfico de barras comparativo entre los promedios de sobres necesarios por personas.\n",
    "\n",
    "    \"\"\"\n",
    "    prom = [] # Lista que almacenará los promedios para cada persona.\n",
    "    observaciones = []\n",
    "    for i in fig:\n",
    "        valores = [i for j in range(repeticiones)]\n",
    "        pool = multiprocessing.Pool(processes=multiprocessing.cpu_count())\n",
    "        resultados = pool.map(coleccion, valores)\n",
    "        prom.append(np.mean(resultados))\n",
    "        observaciones.append(i)\n",
    "    if graficar:\n",
    "        fig, axes = plt.subplots(figsize=(7,5), dpi=90)\n",
    "        plt.bar(observaciones, prom)\n",
    "        plt.ylabel('Número figuritas esperado')\n",
    "        plt.xlabel('Cantidad de figuritas')\n",
    "        plt.title('Comparacion segun el numero de figuritas')\n",
    "    else:\n",
    "        return prom"
   ]
  },
  {
   "cell_type": "code",
   "execution_count": 46,
   "metadata": {
    "collapsed": false
   },
   "outputs": [
    {
     "data": {
      "image/png": "[encoded data removed]",
      "text/plain": [
       "<Figure size 630x450 with 1 Axes>"
      ]
     },
     "execution_count": 46,
     "metadata": {
      "needs_background": "light"
     },
     "output_type": "execute_result"
    }
   ],
   "source": [
    "segun_figuritas([1..60])"
   ]
  },
  {
   "cell_type": "markdown",
   "metadata": {
    "collapsed": false
   },
   "source": [
    "#### ¿Cuál es la diferencia entre sobres con repetidas y sobres sin repetidas?\n",
    "\n"
   ]
  },
  {
   "cell_type": "code",
   "execution_count": 8,
   "metadata": {
    "collapsed": false
   },
   "outputs": [
    {
     "name": "stdout",
     "output_type": "stream",
     "text": [
      "La esperanza de llenado con repetidas es:  956.6666666666666  y sin repetidas es:  942.32\n"
     ]
    }
   ],
   "source": [
    "l=[]\n",
    "k= []\n",
    "for i in range(300):\n",
    "    l.append(coleccion(670,5,False,False))\n",
    "    k.append(coleccion(670,5,False,True))\n",
    "m= np.mean(l)\n",
    "n= np.mean(k)\n",
    "print(\"La esperanza de llenado con repetidas es: \", n, \" y sin repetidas es: \", m)"
   ]
  },
  {
   "cell_type": "code",
   "execution_count": 45,
   "metadata": {
    "collapsed": false
   },
   "outputs": [
    {
     "name": "stdout",
     "output_type": "stream",
     "text": [
      "La esperanza de llenado con repetidas es:  12.44  y sin repetidas es:  8.976666666666667\n"
     ]
    }
   ],
   "source": [
    "l=[]\n",
    "k= []\n",
    "for i in range(300):\n",
    "    l.append(coleccion(200,100,False,False))\n",
    "    k.append(coleccion(200,100,False,True))\n",
    "m= np.mean(l)\n",
    "n= np.mean(k)\n",
    "print(\"La esperanza de llenado con repetidas es: \", n, \" y sin repetidas es: \", m)\n",
    "# Veamos que con una cantidad de figuritas no tan grande en comparación a la de figuritas por sobre, la diferencia de las esperanzas es bastante mayor en porcentaje"
   ]
  },
  {
   "cell_type": "markdown",
   "metadata": {
    "collapsed": false
   },
   "source": [
    "#### <span style='color:#009ce0'>Conclusión Algoritmo 1:</span>\n",
    "\n",
    "Podemos observar que sin importar si hay repetidas en los sobre o no, la esperanza de llenado parece ser similar en ambos casos \\(esto cuando el numero de figuritas es considerablemente mayor que el numero de figuritas por sobre\\). Además la esperanza de llenado esta cerca de 950 sobres \\(notar que la varianza de este experimento debe ser grande ya que al correr los experimentos con 300 repeticiones varias veces los resultados difieren bastante\\), coincidiendo con el \"coupons collector problem\" de Wikipedia. También es importante decir que más allá del numero de figuritas que tengamos o figuritas por sobre o si hay repetidas en los sobres o no, todas tienen una forma logarítmica en su parte gráfica.  \n",
    "\n"
   ]
  },
  {
   "cell_type": "code",
   "execution_count": 1,
   "metadata": {
    "collapsed": false
   },
   "outputs": [
    {
     "data": {
      "text/plain": [
       "949"
      ]
     },
     "execution_count": 1,
     "metadata": {
     },
     "output_type": "execute_result"
    }
   ],
   "source": [
    "#Vamos a mostrar que el coupons colector problem da parceido\n",
    "num= 670\n",
    "i = var(\"i\")\n",
    "round(num*sum(1/i,i,1,num).n()/5)"
   ]
  },
  {
   "cell_type": "markdown",
   "metadata": {
    "collapsed": false
   },
   "source": [
    "### <span style='color:#009688'>Algoritmo 2: Coleccionistas intercambiando figurita a figurita</span>\n",
    "\n"
   ]
  },
  {
   "cell_type": "markdown",
   "metadata": {
    "collapsed": false
   },
   "source": [
    "A continuación se define la clase `Coleccionista` que crea objetos que representan a un coleccionista de figuritas \\(del FIFA World Cup Qatar 2022™ de Panini en nuestro caso\\).\n",
    "\n",
    "Cada objeto de esta clase \\(cada coleccionista\\) posee los siguientes objetos:\n",
    "\n",
    "- `album`una lista que representa los lugares del álbum de figuritas \\(la colección\\).\n",
    "- `repetidas`una lista que lleva el control de las repetidas del coleccionista.\n",
    "- `faltantes`una lista que lleva el control de las faltantes del coleccionista.\n",
    "\n",
    "A su vez, cada coleccionista puede realizar las siguientes acciones:\n",
    "\n",
    "- `abrir_sobre()`abre un sobre que contiene una cantidad de figuritas previamente declarada.\n",
    "- `pegar_fig()`pega las figuritas nuevas del sobre que abrió.\n",
    "- `act_repetidas()`actualiza su lista de repetidas.\n",
    "- `act_faltantes()`actualiza su lista de faltantes.\n",
    "- `intercambiar(coleccionista, otro_coleccionista)`el intercambio se figuritas se realiza si en la lista de `repetidas`de un`coleccionista`estén figuritas de la lista de`faltantes`del`otro_coleccionista` y viceversa. Luego se realiza el cambio de las figuritas posibles.\n",
    "\n"
   ]
  },
  {
   "cell_type": "code",
   "execution_count": 3,
   "metadata": {
    "collapsed": false
   },
   "outputs": [
   ],
   "source": [
    "class Coleccionista(object): # Sin repetidas en los sobres.\n",
    "    \"\"\"\n",
    "    Simula una colección de figuritas, donde no vienen repetidas en un mismo sobre y donde las repetidas se intercambian 1 a 1.\n",
    "\n",
    "    ARGUMENTOS (todos son opcionales):\n",
    "\n",
    "    * \"fig\" -- (por defecto 670) cantidad de figuritas diferentes necesarias para llenar el álbum.\n",
    "\n",
    "    * \"fig_sob\" -- (por defecto 5) cantidad de figuritas que vienen en cada sobre.\n",
    "\n",
    "    * \"sob\" -- (por defecto 5) cantidad de sobres comprados por turno.\n",
    "\n",
    "    SALIDA:\n",
    "\n",
    "    Un entero que representa la cantidad de sobres que se necesitaron para completar el álbum.\n",
    "\n",
    "    NOTA:\n",
    "\n",
    "    Ejecutar Coleccionista() es equivalente a ejecutar Coleccionista(fig=670, fig_sob=5, sob=5).\n",
    "\n",
    "    \"\"\"\n",
    "    def __init__(self, fig:int = 670, fig_sob:int = 5, sob:int = 5):\n",
    "        self._fig = fig # Cantidad de figuritas que hay en el álbum.\n",
    "        self._fig_sob = fig_sob # Cantidad de figuritas que vienen por sobre.\n",
    "        self._sob = sob # Cantidad de sobres comprados por turno.\n",
    "        self.album = [0 for i in range(0, fig)] # Cada celda representa cuántas veces tiene esa figurita en ese lugar del álbum.\n",
    "        self.cant_sob = 0 # Cantidad de sobres que necesitó el coleccionista para completar el álbum.\n",
    "        self.repetidas = [i for i in range(0, fig) if self.album[i] > 1]\n",
    "        self.faltantes = [i for i in range(0, fig) if self.album[i] == 0]\n",
    "        self._necesarias = [i for i in range(0, fig)] # Lista de figuritas necesarias para completar el álbum.\n",
    "        self.cant_fig = [0] # Cantidad de figuritas pegadas sobre a sobre.\n",
    "\n",
    "    def abrir_sobre(self):\n",
    "            return random.sample(self._necesarias, k = self._fig_sob) # Sin repetidas en sobres.\n",
    "\n",
    "    def act_repetidas(self):\n",
    "        self.repetidas = [i for i in range(0, self._fig) if self.album[i] > 1]\n",
    "\n",
    "    def act_faltantes(self):\n",
    "        self.faltantes = [i for i in range(0, self._fig) if self.album[i] == 0]\n",
    "\n",
    "    def pegar_fig(self):\n",
    "        \"\"\"\n",
    "        El coleccionista abre un sobre y pega las nuevas en el álbum. Esto lo repite self._sob veces.\n",
    "        Luego cuenta cuántas figuritas tiene pegadas en el álbum y posteriormente actualiza la lista de repetidas y faltantes.\n",
    "\n",
    "        \"\"\"\n",
    "        for j in range(0, self._sob): # Repetiremos esto sob veces, es decir, una vez por cada sobre que compra el coleccionista.\n",
    "            sobre = self.abrir_sobre()\n",
    "            self.cant_sob = self.cant_sob + 1\n",
    "            for figurita in sobre:\n",
    "                self.album[figurita] = self.album[figurita] + 1\n",
    "\n",
    "            # Ahora contaremos cuantas figuritas tenemos pegadas.\n",
    "            pegadas = 0\n",
    "            for h in range(0, self._fig):\n",
    "                if self.album[h] > 0:\n",
    "                    pegadas = pegadas + 1\n",
    "            self.cant_fig.append(pegadas)\n",
    "\n",
    "            # Ahora actualizaermos las listas de repetidas y faltantes.\n",
    "            self.act_repetidas()\n",
    "            self.act_faltantes()\n",
    "\n",
    "    def completo(self): # Verificamos si el coleccionista completó el álbum.\n",
    "        for figurita in self.album:\n",
    "            if figurita == 0:\n",
    "                return False\n",
    "        return True\n",
    "\n",
    "    def intercambiar(self, other):\n",
    "        fal_self = Set(other.repetidas) & Set(self.faltantes) # Repetidas de other que le faltan a self.\n",
    "        fal_other = Set(self.repetidas) & Set(other.faltantes) # Repetidas de self que le faltan a other.\n",
    "        min_inter = min(fal_self.cardinality(), fal_other.cardinality())\n",
    "\n",
    "        if (fal_self & fal_other) != Set() or not (self.completo() and other.completo()):\n",
    "            for i in range(0, min_inter):\n",
    "                other.album[fal_self[i]] = other.album[fal_self[i]] - 1 # Le sacamos a other la figurita que intercambiará con self.\n",
    "                self.album[fal_self[i]] = 1 # Pegamos la figurita de other en el álbum de self.\n",
    "                self.album[fal_other[i]] = self.album[fal_other[i]] - 1 # Le sacamos a self la figurita que intercambiará con other.\n",
    "                other.album[fal_other[i]] = 1 # Pegamos la figurita de self en el álbum de other.\n",
    "\n",
    "        # Actualizamos las repetidas y faltantes de cada coleccionista\n",
    "        self.act_repetidas()\n",
    "        self.act_faltantes()\n",
    "        other.act_repetidas()\n",
    "        other.act_faltantes()"
   ]
  },
  {
   "cell_type": "markdown",
   "metadata": {
    "collapsed": false
   },
   "source": [
    "A continuación se define la clase`ColeccionistaRepetidas`que es una clase hija de`Coleccionista`. La única diferencia con su clase padre es en cómo define la función de abrir sobres: ahora se pueden encontrar figuritas repetidas en un mismo sobre.  \n",
    "\n"
   ]
  },
  {
   "cell_type": "code",
   "execution_count": 4,
   "metadata": {
    "collapsed": false
   },
   "outputs": [
   ],
   "source": [
    "class ColeccionistaRepetidas(Coleccionista):\n",
    "    \"\"\"\n",
    "    Simula una colección de figuritas, donde pueden haber repetidas en un mismo sobre y donde las repetidas se intercambian 1 a 1.\n",
    "\n",
    "    ARGUMENTOS (todos son opcionales):\n",
    "\n",
    "    * \"fig\" -- (por defecto 670) cantidad de figuritas diferentes necesarias para llenar el álbum.\n",
    "\n",
    "    * \"fig_sob\" -- (por defecto 5) cantidad de figuritas que vienen en cada sobre.\n",
    "\n",
    "    * \"sob\" -- (por defecto 5) cantidad de sobres comprados por turno.\n",
    "\n",
    "    SALIDA:\n",
    "\n",
    "    Un entero que representa la cantidad de sobres que se necesitaron para completar el álbum.\n",
    "\n",
    "    NOTA:\n",
    "\n",
    "    Ejecutar Coleccionista() es equivalente a ejecutar Coleccionista(fig=670, fig_sob=5, sob=5).\n",
    "\n",
    "    \"\"\"\n",
    "    # Solo cambia que en los sobres pueden haber repetidas.\n",
    "    def abrir_sobre(self):\n",
    "            return random.choices(self._necesarias, k=self._fig_sob) # Pueden haber repetidas en un sobre."
   ]
  },
  {
   "cell_type": "markdown",
   "metadata": {
    "collapsed": false
   },
   "source": [
    "A continuación se define la función`coleccionistas`que simula $n$ coleccionistas que coleccionan el álbum e intercambian figuritas entre sí.\n",
    "\n",
    "En escencia lo que se hace en el código es crear una lista con $n$ coleciconistas de la clase`Coleccionista`y luego ejecutar los métodos necesarios para completar la colección.\n",
    "\n",
    "ARGUMENTOS \\(también se puede consultar el docstring con`?coleccion,` allí se detallan estos mismos argumentos\\)\n",
    "\n",
    "- `personas`\\-\\- cantidad de personas que coleccionarán el álbum de manera simultánea, intercambiando figuritas entre sí.\n",
    "- `fig`\\-\\- cantidad de figuritas diferentes necesarias para llenar el álbum.\n",
    "- `fig_sob`\\-\\- cantidad de figuritas que vienen en cada sobre.\n",
    "- `sob` \\-\\- cantidad de sobres comprados por turno.\n",
    "- `rep_sob`\\-\\- \\(booleano\\) representa si en cada sobre pueden encontrarse figuritas repetidas. Este argumento es opcional y está predefinido en \"False\".\n",
    "- `graf`\\-\\- \\(booleano\\) representa si se imprime una gráfica que representa la cantidad de figuritas diferentes obtenidas en función del tiempo. Este argumento es opcional y está predefinido en \"False\".\n",
    "\n",
    "SALIDA:\n",
    "\n",
    "Un lista que representa la cantidad de sobres que necesitó cada coleccionista para completar el álbum.\n",
    "\n",
    "En caso de que`graf`sea`True`incluirá una gráfica que representa la cantidad de figuritas diferentes obtenidas en función del tiempo.  \n",
    "\n",
    "NOTA:\n",
    "\n",
    "Ejecutar coleccion\\(\\) es equivalente a ejecutar: coleccion\\(personas=1, fig=670, fig\\_sob=5, sob=5, rep\\_sob=False, graf=False\\).  \n",
    "\n"
   ]
  },
  {
   "cell_type": "code",
   "execution_count": 50,
   "metadata": {
    "collapsed": false
   },
   "outputs": [
   ],
   "source": [
    "def coleccion(personas:int = 1, fig:int = 670, fig_sob: int = 5, sob:int = 5, rep_sob:bool = False, graf:bool = False):\n",
    "    \"\"\"\n",
    "    Simula la colección de varias \"personas\" intercambiando figuritas entre sí, donde las repetidas se cambian 1 a 1.\n",
    "\n",
    "    ARGUMENTOS:\n",
    "\n",
    "    * \"personas\" -- cantidad de personas que coleccionarán el álbum de manera simultánea, intercambiando figuritas entre sí.\n",
    "\n",
    "    * \"fig\" -- cantidad de figuritas diferentes necesarias para llenar el álbum.\n",
    "\n",
    "    * \"fig_sob\" -- cantidad de figuritas que vienen en cada sobre.\n",
    "\n",
    "    * \"sob\" -- cantidad de sobres comprados por turno.\n",
    "\n",
    "    * \"rep_sob\" -- (booleano) representa si en cada sobre pueden encontrarse figuritas repetidas. Este argumento es opcional y está predefinido en \"False\".\n",
    "\n",
    "    * \"graf\" -- (booleano) representa si se imprime una gráfica que representa la cantidad de figuritas diferentes obtenidas en función del tiempo. Este argumento es opcional y está predefinido en \"False\".\n",
    "\n",
    "    SALIDA:\n",
    "\n",
    "    Un lista que representa la cantidad de sobres que necesitó cada coleccionista para completar el álbum.\n",
    "\n",
    "    En caso de que \"graf\" sea \"True\" incluirá una gráfica que representa la cantidad de figuritas diferentes obtenidas en función del tiempo.\n",
    "\n",
    "    NOTA:\n",
    "\n",
    "    Ejecutar coleccion() es equivalente a ejecutar:\n",
    "\n",
    "    coleccion(personas=1, fig=670, fig_sob=5, sob=5, rep_sob=False, graf=False)\n",
    "\n",
    "    \"\"\"\n",
    "    ### Función auxiliar ###\n",
    "    def llenado_grupal(M):\n",
    "        for i in range(0, personas):\n",
    "            if M[i].completo() == False:\n",
    "                return False\n",
    "        return True\n",
    "\n",
    "    ### Definiendo los coleccionistas ###\n",
    "    if rep_sob: # Si los sobres pueden contener repetidas:\n",
    "        M = [ColeccionistaRepetidas(fig, fig_sob, sob) for i in range(0, personas)]\n",
    "    else: # Si los sobres no pueden contener repetidas.\n",
    "        M = [Coleccionista(fig, fig_sob, sob) for i in range(0, personas)]\n",
    "\n",
    "    ### Código principal ###\n",
    "    while not llenado_grupal(M):\n",
    "        for coleccionista in M:\n",
    "            if not coleccionista.completo():\n",
    "                coleccionista.pegar_fig()\n",
    "                coleccionista.act_repetidas()\n",
    "                coleccionista.act_faltantes()\n",
    "                # Intercambios:\n",
    "                for otro_coleccionista in M:\n",
    "                    if otro_coleccionista != coleccionista: # No intercambiará figuritas con sí mismo.\n",
    "                        coleccionista.intercambiar(otro_coleccionista)\n",
    "\n",
    "    ### Gráfica ###\n",
    "    if graf:\n",
    "        for coleccionista in M:\n",
    "            plt.plot(coleccionista.cant_fig, color='magenta', marker='o',mfc='pink' )\n",
    "\n",
    "    ### Salida ###\n",
    "    return [coleccionista.cant_sob for coleccionista in M]"
   ]
  },
  {
   "cell_type": "code",
   "execution_count": 51,
   "metadata": {
    "collapsed": false
   },
   "outputs": [
    {
     "data": {
      "text/plain": [
       "[985]"
      ]
     },
     "execution_count": 51,
     "metadata": {
     },
     "output_type": "execute_result"
    }
   ],
   "source": [
    "coleccion() #Una persona sola el llenado del album"
   ]
  },
  {
   "cell_type": "code",
   "execution_count": 52,
   "metadata": {
    "collapsed": false
   },
   "outputs": [
    {
     "data": {
      "text/plain": [
       "[455, 810]"
      ]
     },
     "execution_count": 52,
     "metadata": {
     },
     "output_type": "execute_result"
    }
   ],
   "source": [
    "coleccion(personas = 2)"
   ]
  },
  {
   "cell_type": "code",
   "execution_count": 6,
   "metadata": {
    "collapsed": false
   },
   "outputs": [
    {
     "data": {
      "text/plain": [
       "[270, 370, 400, 380, 395]"
      ]
     },
     "execution_count": 6,
     "metadata": {
     },
     "output_type": "execute_result"
    }
   ],
   "source": [
    "coleccion(personas = 5)  #0.2seg"
   ]
  },
  {
   "cell_type": "code",
   "execution_count": 7,
   "metadata": {
    "collapsed": false
   },
   "outputs": [
    {
     "data": {
      "text/plain": [
       "[340, 260, 350, 330, 240, 330, 325, 345, 245, 295]"
      ]
     },
     "execution_count": 7,
     "metadata": {
     },
     "output_type": "execute_result"
    },
    {
     "data": {
      "image/png": "[encoded data removed]",
      "text/plain": [
       "<Figure size 432x288 with 1 Axes>"
      ]
     },
     "execution_count": 7,
     "metadata": {
      "needs_background": "light"
     },
     "output_type": "execute_result"
    }
   ],
   "source": [
    "coleccion(personas = 10, graf = True) #3.7"
   ]
  },
  {
   "cell_type": "code",
   "execution_count": 8,
   "metadata": {
    "collapsed": false
   },
   "outputs": [
    {
     "data": {
      "text/plain": [
       "[200, 235, 255, 210, 210, 250, 260, 250, 255, 290, 235, 515, 230, 355, 400]"
      ]
     },
     "execution_count": 8,
     "metadata": {
     },
     "output_type": "execute_result"
    }
   ],
   "source": [
    "coleccion(personas = 15) #6.8"
   ]
  },
  {
   "cell_type": "markdown",
   "metadata": {
    "collapsed": false
   },
   "source": [
    "Para tener un \"marco teórico\" del cual aferrarnos para ver si las simulaciones son un poco acertadas, podemos tomar como referencia esta gráfica extraída de Infobae [https://www.infobae.com/economia/2022/08/24/el\\-album\\-del\\-mundial\\-2022\\-como\\-es\\-la\\-mejor\\-estrategia\\-para\\-llenarlo\\-al\\-costo\\-mas\\-bajo/](https://www.infobae.com/economia/2022/08/24/el-album-del-mundial-2022-como-es-la-mejor-estrategia-para-llenarlo-al-costo-mas-bajo/)  \n",
    "\n",
    "![](.version_con_clases.ipynb.upload/paste-0.4901361070947712)\n",
    "\n"
   ]
  },
  {
   "cell_type": "markdown",
   "metadata": {
    "collapsed": false
   },
   "source": [
    "### Comparación entre la cantidad de sobres y coleccionistas intercambiando entre sí\n",
    "\n",
    "A continuación compararemos la cantidad de sobres necesarios para completar el álbum en función a la cantidad de los coleccionistas intercambiando entre sí.  \n",
    "\n"
   ]
  },
  {
   "cell_type": "code",
   "execution_count": 9,
   "metadata": {
    "collapsed": false
   },
   "outputs": [
   ],
   "source": [
    "# Llevó 125seg aprox 2min, con 9 personas y 10 repeticiones.\n",
    "# Llevó 300seg aprox 5 min, con 19 personas y 5 repeticiones.\n",
    "datos = []\n",
    "personas = []\n",
    "for i in range(1, 19):\n",
    "    aux = []\n",
    "    for j in range(0, 5):\n",
    "        aux.append(np.mean(coleccion(i)))\n",
    "    datos.append(np.mean((aux)))\n",
    "    personas.append(i)"
   ]
  },
  {
   "cell_type": "code",
   "execution_count": 10,
   "metadata": {
    "collapsed": false
   },
   "outputs": [
    {
     "data": {
      "text/plain": [
       "Text(0.5, 1.0, 'Comparación entre cantidad de sobres y coleccionistas intercambiando entre sí.')"
      ]
     },
     "execution_count": 10,
     "metadata": {
     },
     "output_type": "execute_result"
    },
    {
     "data": {
      "image/png": "[encoded data removed]",
      "text/plain": [
       "<Figure size 630x450 with 1 Axes>"
      ]
     },
     "execution_count": 10,
     "metadata": {
      "needs_background": "light"
     },
     "output_type": "execute_result"
    }
   ],
   "source": [
    "fig, axes = plt.subplots(figsize=(7,5), dpi=90)\n",
    "plt.bar(personas, datos)\n",
    "plt.ylabel('Número esperado de paquetes por coleccionista')\n",
    "plt.xlabel('Número de coleccionistas')\n",
    "plt.title('Comparación entre cantidad de sobres y coleccionistas intercambiando entre sí.')"
   ]
  },
  {
   "cell_type": "code",
   "execution_count": 13,
   "metadata": {
    "collapsed": false
   },
   "outputs": [
   ],
   "source": [
    "# Llevó 125seg aprox 2min, con 9 personas y 10 repeticiones.\n",
    "# Llevó 300seg aprox 5 min, con 19 personas y 5 repeticiones.\n",
    "datos = []\n",
    "personas = []\n",
    "for i in range(1, 10):\n",
    "    aux = []\n",
    "    for j in range(0, 5):\n",
    "        aux.append(np.mean(coleccion(i)))\n",
    "    datos.append(np.mean((aux)))\n",
    "    personas.append(i)"
   ]
  },
  {
   "cell_type": "code",
   "execution_count": 14,
   "metadata": {
    "collapsed": false
   },
   "outputs": [
    {
     "data": {
      "text/plain": [
       "Text(0.5, 1.0, 'Comparación entre cantidad de sobres y coleccionistas intercambiando entre sí.')"
      ]
     },
     "execution_count": 14,
     "metadata": {
     },
     "output_type": "execute_result"
    },
    {
     "data": {
      "image/png": "[encoded data removed]",
      "text/plain": [
       "<Figure size 630x450 with 1 Axes>"
      ]
     },
     "execution_count": 14,
     "metadata": {
      "needs_background": "light"
     },
     "output_type": "execute_result"
    }
   ],
   "source": [
    "fig, axes = plt.subplots(figsize=(7,5), dpi=90)\n",
    "plt.bar(personas, datos)\n",
    "plt.ylabel('Número esperado de paquetes por coleccionista')\n",
    "plt.xlabel('Número de coleccionistas')\n",
    "plt.title('Comparación entre cantidad de sobres y coleccionistas intercambiando entre sí.')"
   ]
  },
  {
   "cell_type": "markdown",
   "metadata": {
    "collapsed": false
   },
   "source": [
    "**Los algoritmos llevan un tiempo considerable cuando simulamos una cantidad grande de personas, por eso elegimos paralelizar la simulación para que consuma menos tiempo \\(tiempo de vida, no de maquina\\)**  \n",
    "\n"
   ]
  },
  {
   "cell_type": "code",
   "execution_count": 9,
   "metadata": {
    "collapsed": false
   },
   "outputs": [
   ],
   "source": [
    "def promedios(funcion, personas:list=[1], repeticiones:int=5, graficar:bool=True):\n",
    "    \"\"\"\n",
    "    Repite 'repeticiones' veces una colección para cada persona en 'personas'.\n",
    "\n",
    "    ARGUMENTOS:\n",
    "\n",
    "    * \"funcion\" -- función a promediar.\n",
    "\n",
    "    * \"personas\" -- lista que representa con cuántas personas de repetirá cada simulación.\n",
    "\n",
    "    * \"repeticiones\" -- entero que representa cuántas veces se repetirá cada simulación.\n",
    "\n",
    "    SALIDA:\n",
    "\n",
    "    Un gráfico de barras comparativo entre los promedios de sobres necesarios por personas.\n",
    "\n",
    "    \"\"\"\n",
    "    prom = [] # Lista que almacenará los promedios para cada persona.\n",
    "    for i in personas:\n",
    "        valores = [i for j in range(repeticiones)]\n",
    "        pool = multiprocessing.Pool(processes=multiprocessing.cpu_count())\n",
    "        resultados = pool.map(funcion, valores)\n",
    "        prom.append(np.mean(resultados))\n",
    "    if graficar:\n",
    "        fig, axes = plt.subplots(figsize=(7,5), dpi=90)\n",
    "        plt.bar(personas, prom)\n",
    "        plt.ylabel('Número esperado de paquetes por coleccionista')\n",
    "        plt.xlabel('Número de coleccionistas')\n",
    "        plt.title('Comparación entre cantidad de sobres y coleccionistas intercambiando entre sí.')\n",
    "    else:\n",
    "        return prom"
   ]
  },
  {
   "cell_type": "code",
   "execution_count": 59,
   "metadata": {
    "collapsed": false
   },
   "outputs": [
    {
     "data": {
      "image/png": "[encoded data removed]",
      "text/plain": [
       "<Figure size 630x450 with 1 Axes>"
      ]
     },
     "execution_count": 59,
     "metadata": {
      "needs_background": "light"
     },
     "output_type": "execute_result"
    }
   ],
   "source": [
    "promedios(coleccion, personas=[i for i in range(1,31)], repeticiones=30) # 703 seg"
   ]
  },
  {
   "cell_type": "markdown",
   "metadata": {
    "collapsed": false
   },
   "source": [
    "## <span style='color:#2196f3'>Conclusión algoritmo 2:</span>\n",
    "\n",
    "###### Vemos que a medida que aumenta el número de personas la esperanza de llenado disminuye. La diferencia entre 1 persona y 2 personas es mucha más que la de 10 y 20 que no difieren tanto. Observamos también que tiene que haber una asintota en y = 134 porque es imposible llenar el album con menos sobres.\n",
    "\n"
   ]
  },
  {
   "cell_type": "markdown",
   "metadata": {
    "collapsed": false
   },
   "source": [
    "## <span style='color:#16a5a5'>Algoritmo 3: Figuritas con distintos valores</span>\n",
    "\n"
   ]
  },
  {
   "cell_type": "markdown",
   "metadata": {
    "collapsed": false
   },
   "source": [
    "A continuación se define la clase`ColeccionistaValor` que es utilizada para representar un coleccionista de figuritas cuando éstas tienen un valor de intercambio entre 1 y 4. Su clase padre es`Coleccionista`y el cambio más sustancial es que se le agregan los atibutos para cada mazo de figuritas repetidas y faltantes simples, dobles, triples y cuádruples. Además se definen nuevos métodos.\n",
    "\n",
    "Nuevos atributos:\n",
    "\n",
    "- `repetidas_simples, repetidas_dobles, repetidas_triples`y`repetidas_cuadruples`listas que lleva el control de las figuritas repetidas con valor 1, 2, 3 y 4.\n",
    "- `faltantes_simples, faltantes_dobles, faltantes_triples`y`faltantes_cuadruples`listas que lleva el control de las figuritas faltantes con valor 1, 2, 3 y 4.\n",
    "\n",
    "Nuevos métodos:\n",
    "\n",
    "- `intercambiar(coleccionista, otro_coleccionista)` Este se actualiza para que intercambie figuritas de mazos de repetidas de igual valor entre dos coleccionistas.\n",
    "- `intercambiar_cruzado(coleccionista, otro_coleccionista)`Intercambia las figuritas de mazos cruzados de dos coleccionistas, siempre respetando el valor de cada figurita \\(ej: triples con dobles, cuádruples con simples, etc\\).  \n",
    "\n"
   ]
  },
  {
   "cell_type": "code",
   "execution_count": 5,
   "metadata": {
    "collapsed": false
   },
   "outputs": [
   ],
   "source": [
    "### -------------------------------------------------------------------------- ###\n",
    "### Coleccionista sin repetidas en sobres y repetidas con un valor entre 1 y 4 ###\n",
    "### -------------------------------------------------------------------------- ###\n",
    "\n",
    "class ColeccionistaValor(Coleccionista):\n",
    "    \"\"\"\n",
    "    Simula una colección de figuritas donde cada repetida tiene un valor entre 1 y 4. No vienen figuritas repetidas en un mismo sobre.\n",
    "\n",
    "    ARGUMENTOS (todos son opcionales):\n",
    "\n",
    "    * \"fig\" -- (por defecto 670) cantidad de figuritas diferentes necesarias para llenar el álbum.\n",
    "\n",
    "    * \"fig_sob\" -- (por defecto 5) cantidad de figuritas que vienen en cada sobre.\n",
    "\n",
    "    * \"sob\" -- (por defecto 5) cantidad de sobres comprados por turno.\n",
    "\n",
    "    * \"lista_valores\" -- (por defecto [2, 29, 170, 469]) lista de listas que representa cuántas figuritas tienen asignadas un mismo valor. Específicamente:\n",
    "\n",
    "                         * en lista_valores[0] se almacena cuántas figuritas tienen valor de intercambio 4.\n",
    "                         * en lista_valores[1] se almacena cuántas figuritas tienen valor de intercambio 3.\n",
    "                         * en lista_valores[2] se almacena cuántas figuritas tienen valor de intercambio 2.\n",
    "                         * en lista_valores[3] se almacena cuántas figuritas tienen valor de intercambio 1.\n",
    "\n",
    "                         Notar que sum(lista_valores) = fig.\n",
    "\n",
    "    SALIDA:\n",
    "\n",
    "    Un entero que representa la cantidad de sobres que se necesitaron para completar el álbum.\n",
    "\n",
    "    NOTA:\n",
    "\n",
    "    Ejecutar ColeccionistaValor() es equivalente a ejecutar:\n",
    "\n",
    "    ColeccionistaValor(fig=670, fig_sob=5, sob=5, lista_valores=[2, 29, 170, 469]).\n",
    "\n",
    "    \"\"\"\n",
    "    def __init__(self, fig:int = 670, fig_sob:int = 5, sob:int = 5, lista_valores:list = [2, 29, 170, 469]):\n",
    "        self._fig = fig # Cantidad de figuritas que hay en el álbum.\n",
    "        self._fig_sob = fig_sob # Cantidad de figuritas que vienen por sobre.\n",
    "        self._sob = sob # Cantidad de sobres comprados por turno.\n",
    "        self.album = [0 for i in range(0, fig)] # Cada celda representa cuántas veces tiene esa figurita en ese lugar del álbum.\n",
    "        self.cant_sob = 0 # Cantidad de sobres que necesitó el coleccionista para completar el álbum.\n",
    "        self._lista_valores = lista_valores # Lista de listas que representa el valor de cada figurita.\n",
    "        self._necesarias = [i for i in range(0, fig)] # Figuritas necesarias para completar el álbum.\n",
    "        self.cant_fig = [0] # Cantidad de figuritas pegadas sobre a sobre.\n",
    "\n",
    "        self._fig_simples = range(lista_valores[0] + lista_valores[1] + lista_valores[2],\n",
    "                                  lista_valores[0] + lista_valores[1] + lista_valores[2] + lista_valores[3]) # Lista de figuritas con valor 1.\n",
    "        self._fig_dobles = range(lista_valores[0] + lista_valores[1], lista_valores[0] + lista_valores[1] + lista_valores[2]) # Lista de figuritas con valor 2.\n",
    "        self._fig_triples = range(lista_valores[0], lista_valores[0] + lista_valores[1]) # Lista de figuritas con valor 3.\n",
    "        self._fig_cuadruples = range(0, lista_valores[0]) # Lista de figuritas con valor 4.\n",
    "\n",
    "        self.repetidas_simples = [] # Lista que contiene las figuritas repetidas con valor 1.\n",
    "        self.repetidas_dobles = [] # Lista que contiene las figuritas repetidas con valor 2.\n",
    "        self.repetidas_triples = [] # Lista que contiene las figuritas repetidas con valor 3.\n",
    "        self.repetidas_cuadruples = [] # Lista que contiene las figuritas repetidas con valor 4.\n",
    "\n",
    "        self.faltantes_simples = [i for i in self._fig_simples] # Lista que contiene las figuritas faltantes con valor 1.\n",
    "        self.faltantes_dobles = [i for i in self._fig_dobles] # Lista que contiene las figuritas faltantes con valor 2.\n",
    "        self.faltantes_triples = [i for i in self._fig_triples]  # Lista que contiene las figuritas faltantes con valor 3.\n",
    "        self.faltantes_cuadruples = [i for i in self._fig_cuadruples]  # Lista que contiene las figuritas faltantes con valor 4.\n",
    "\n",
    "    def act_repetidas(self):\n",
    "        self.repetidas_simples = [i for i in self._fig_simples if self.album[i] > 1]\n",
    "        self.repetidas_dobles = [i for i in self._fig_dobles if self.album[i] > 1]\n",
    "        self.repetidas_triples = [i for i in self._fig_triples if self.album[i] > 1]\n",
    "        self.repetidas_cuadruples = [i for i in self._fig_cuadruples if self.album[i] > 1]\n",
    "\n",
    "    def act_faltantes(self):\n",
    "        self.faltantes_simples = [i for i in self._fig_simples if self.album[i] == 0]\n",
    "        self.faltantes_dobles = [i for i in self._fig_dobles if self.album[i] == 0]\n",
    "        self.faltantes_triples = [i for i in self._fig_triples if self.album[i] == 0]\n",
    "        self.faltantes_cuadruples = [i for i in self._fig_cuadruples if self.album[i] == 0]\n",
    "\n",
    "    def __intercambiar_cada(self, other, other_repetidas_valor, self_faltantes_valor,\n",
    "                       self_repetidas_valor, other_faltantes_valor):\n",
    "        \"\"\"\n",
    "        Intercambia mazos de repetidas de igual valor entre dos coleccionistas.\n",
    "\n",
    "        EJEMPLOS DE EJECUCIÓN:\n",
    "\n",
    "        * Para intercambiar simples con simples:\n",
    "            x.__intercambiar_cada(y, y.repetidas_simples, x.faltantes_simples,\n",
    "                               x,repetidas_simples, y.faltantes_simples\n",
    "\n",
    "        \"\"\"\n",
    "        fal_self = Set(other_repetidas_valor) & Set(self_faltantes_valor) # Repetidas de other que le faltan a self.\n",
    "        fal_other = Set(self_repetidas_valor) & Set(other_faltantes_valor) # Repetidas de self que le faltan a other.\n",
    "        min_inter = min(fal_self.cardinality(), fal_other.cardinality())\n",
    "\n",
    "        if ((fal_self & fal_other) != Set()):\n",
    "            for i in range(0, min_inter):\n",
    "                other.album[fal_self[i]] = other.album[fal_self[i]] - 1 # Le sacamos a other la figurita que intercambiará con self.\n",
    "                self.album[fal_self[i]] = 1 # Pegamos la figurita de other en el álbum de self.\n",
    "                self.album[fal_other[i]] = self.album[fal_other[i]] - 1 # Le sacamos a self la figurita que intercambiará con other.\n",
    "                other.album[fal_other[i]] = 1 # Pegamos la figurita de self en el álbum de other.\n",
    "\n",
    "    def intercambiar(self, other):\n",
    "        \"\"\"\n",
    "        Intercambia mazos de repetidas de igual valor entre dos coleccionistas.\n",
    "        \"\"\"\n",
    "        # Intercambio de figuritas simples:\n",
    "        self.__intercambiar_cada(other, other.repetidas_simples, self.faltantes_simples,\n",
    "                            self.repetidas_simples, other.faltantes_simples)\n",
    "        # Intercambio de figuritas dobles:\n",
    "        self.__intercambiar_cada(other, other.repetidas_dobles, self.faltantes_dobles,\n",
    "                            self.repetidas_dobles, other.faltantes_dobles)\n",
    "        # Intercambio de figuritas triples:\n",
    "        self.__intercambiar_cada(other, other.repetidas_triples, self.faltantes_triples,\n",
    "                            self.repetidas_triples, other.faltantes_triples)\n",
    "        # Intercambio de figuritas cuadruples:\n",
    "        self.__intercambiar_cada(other, other.repetidas_cuadruples, self.faltantes_cuadruples,\n",
    "                            self.repetidas_cuadruples, other.faltantes_cuadruples)\n",
    "        # Actualizamos las repetidas y faltantes de cada coleccionista\n",
    "        self.act_repetidas()\n",
    "        self.act_faltantes()\n",
    "        other.act_repetidas()\n",
    "        other.act_faltantes()\n",
    "\n",
    "\n",
    "    def __cambio(self, other, a: int,b: list): # a es la que le falta a other. b es una lista de fig que le faltan a self.\n",
    "        self.album[a] = self.album[a] - 1 # Le sacamos a self la figurita que intercambiará con other.\n",
    "        other.album[a] += 1 # Pegamos la figurita de self en el album de other.\n",
    "        for i in b:\n",
    "            other.album[i] = other.album[i] - 1 # Le sacamos a other la figurita que intercambiará con self.\n",
    "            self.album[i] += 1 # Pegamos la figurita de other en el álbum de self.\n",
    "\n",
    "\n",
    "    def __intercambiar_valor(self, other, self_rep_A, self_fal_B, other_rep_B, other_fal_A, max_val):\n",
    "        \"\"\"\n",
    "        A tiene que ser más grande que B.\n",
    "\n",
    "        max_val = valor de las figuritas en el mazo self_rep_A\n",
    "        \"\"\"\n",
    "        a = Set(self_rep_A) & Set(other_fal_A) # Repetidas de self que le faltan a other con valor A\n",
    "        b = Set(self_fal_B) & Set(other_rep_B) # Repetidas de other que le faltan a self con valor B\n",
    "        c = min(a.cardinality(), b.cardinality()//max_val)\n",
    "        for i in range (0,c):\n",
    "            self.__cambio(other,a[i],b[i*max_val : i*max_val + max_val-1])\n",
    "\n",
    "\n",
    "    def __intercambiar_cruzado(self, other, val_self, val_other):\n",
    "        \"\"\"\n",
    "        Intercambia figuritas de mazos cruzados de dos coleccionistas. Es decir que, por ejemplo, puede intercambiar las triples de un coleccionista por las dobles del otro (siempre se respetan los valores de las figuritas.)\n",
    "\n",
    "        ARGUMENTOS:\n",
    "\n",
    "        * \"self, other\" -- coleccionistas que intercambiaran las figuritas.\n",
    "\n",
    "        * \"val_self\" -- valor de las figuritas del mazo de self (debe de ser mayor estricto a 1).\n",
    "\n",
    "        * \"val_other\" -- valor de las figuritas del mazo de other. Este valor SIEMPRE debe de ser menor estricto al de val_self. Para intercambiar mazos de igual valor utilizar intercambiar(self, other).\n",
    "        \"\"\"\n",
    "        ### Capturando errores ###\n",
    "        if val_self <= 1:\n",
    "            raise ValueError(\"El valor de val_self debe de ser mayor estricto a 1.\")\n",
    "\n",
    "        if val_self <= val_other or val_other < 0:\n",
    "            raise ValueError('El valor de val_other debe de ser mayor a 0 y menor estricto a val_self.')\n",
    "\n",
    "        ### Cuerpo principal ###\n",
    "        if val_self == 4:\n",
    "            if val_other == 3:\n",
    "                self.__intercambiar_valor(other, self.repetidas_cuadruples, self.faltantes_triples,\n",
    "                                          other.repetidas_triples, other.faltantes_cuadruples, 4)\n",
    "            elif val_other == 2:\n",
    "                self.__intercambiar_valor(other, self.repetidas_cuadruples, self.faltantes_dobles,\n",
    "                                          other.repetidas_dobles, other.faltantes_cuadruples, 4)\n",
    "            else: # val_other = 1\n",
    "                self.__intercambiar_valor(other, self.repetidas_cuadruples, self.faltantes_simples,\n",
    "                                          other.repetidas_simples, other.faltantes_cuadruples, 4)\n",
    "\n",
    "        elif val_self == 3:\n",
    "            if val_other == 2:\n",
    "                self.__intercambiar_valor(other, self.repetidas_triples, self.faltantes_dobles,\n",
    "                                          other.repetidas_dobles, other.faltantes_triples, 3)\n",
    "            else: # val_other = 1\n",
    "                self.__intercambiar_valor(other, self.repetidas_triples, self.faltantes_simples,\n",
    "                                          other.repetidas_simples, other.faltantes_triples, 3)\n",
    "        else: # val_self = 2\n",
    "            self.__intercambiar_valor(other, self.repetidas_dobles, self.faltantes_simples,\n",
    "                                      other.repetidas_simples, other.faltantes_dobles, 2)\n",
    "\n",
    "\n",
    "\n",
    "    def intercambiar_cruzado(self, other):\n",
    "        \"\"\"\n",
    "        Intercambia las figuritas de mazos cruzados de dos coleccionistas, siempre respetando el valor de cada figurita.\n",
    "        \"\"\"\n",
    "        for val_self in range(2, 5):\n",
    "            for val_other in range(1, val_self):\n",
    "                self.__intercambiar_cruzado(other, val_self, val_other)\n",
    "\n",
    "        for val_other in range(2, 5):\n",
    "            for val_self in range(1, val_other):\n",
    "                other.__intercambiar_cruzado(self, val_other, val_self)"
   ]
  },
  {
   "cell_type": "markdown",
   "metadata": {
    "collapsed": false
   },
   "source": [
    "A continuación se define la clase`ColeccionistaValorRepetidas`que es una clase hija de`ColeccionistaValor`. La única diferencia con su clase padre es en cómo define la función de abrir sobres: ahora se pueden encontrar figuritas repetidas en un mismo sobre.  \n",
    "\n"
   ]
  },
  {
   "cell_type": "code",
   "execution_count": 6,
   "metadata": {
    "collapsed": false
   },
   "outputs": [
   ],
   "source": [
    "### -------------------------------------------------------------------------- ###\n",
    "### Coleccionista con repetidas en sobres y repetidas con un valor entre 1 y 4 ###\n",
    "### -------------------------------------------------------------------------- ###\n",
    "\n",
    "class ColeccionistaValorRepetidas(ColeccionistaValor):\n",
    "    \"\"\"\n",
    "    Simula una colección de figuritas donde cada repetida tiene un valor entre 1 y 4. Pueden haber figuritas repetidas en un mismo sobre.\n",
    "\n",
    "    ARGUMENTOS (todos son opcionales):\n",
    "\n",
    "    * \"fig\" -- (por defecto 670) cantidad de figuritas diferentes necesarias para llenar el álbum.\n",
    "\n",
    "    * \"fig_sob\" -- (por defecto 5) cantidad de figuritas que vienen en cada sobre.\n",
    "\n",
    "    * \"sob\" -- (por defecto 5) cantidad de sobres comprados por turno.\n",
    "\n",
    "    * \"lista_valores\" -- (por defecto [2, 29, 170, 469]) lista de listas que representa cuántas figuritas tienen asignadas un mismo valor. Específicamente:\n",
    "\n",
    "                         * en lista_valores[0] se almacena cuántas figuritas tienen valor de intercambio 4.\n",
    "                         * en lista_valores[1] se almacena cuántas figuritas tienen valor de intercambio 3.\n",
    "                         * en lista_valores[2] se almacena cuántas figuritas tienen valor de intercambio 2.\n",
    "                         * en lista_valores[3] se almacena cuántas figuritas tienen valor de intercambio 1.\n",
    "\n",
    "                         Notar que sum(lista_valores) = fig.\n",
    "\n",
    "    SALIDA:\n",
    "\n",
    "    Un entero que representa la cantidad de sobres que se necesitaron para completar el álbum.\n",
    "\n",
    "    NOTA:\n",
    "\n",
    "    Ejecutar ColeccionistaValorRepetidas() es equivalente a ejecutar:\n",
    "\n",
    "    ColeccionistaValorRepetidas(fig=670, fig_sob=5, sob=5, lista_valores=[2, 29, 170, 469]).\n",
    "\n",
    "    \"\"\"\n",
    "    # Solo cambia que en los sobres pueden haber repetidas.\n",
    "    def abrir_sobre(self):\n",
    "            return random.choices(self._necesarias, k=self._fig_sob)"
   ]
  },
  {
   "cell_type": "markdown",
   "metadata": {
    "collapsed": false
   },
   "source": [
    "## Función para simular coleccionistas con figuritas repetidas con un valor entre 1 y 4:\n",
    "\n"
   ]
  },
  {
   "cell_type": "code",
   "execution_count": 11,
   "metadata": {
    "collapsed": false
   },
   "outputs": [
   ],
   "source": [
    "### ----------------------------------------------------------------------- ###\n",
    "### Función para colección cuando las repetidas tienen un valor entre 1 y 4 ###\n",
    "### ----------------------------------------------------------------------- ###\n",
    "\n",
    "def coleccion_valor(personas:int = 1, fig:int = 670, fig_sob:int = 5, sob:int = 5,\n",
    "                    rep_sob:bool = False, graf:bool = False, lista_valores:list = [2, 29, 170, 469]):\n",
    "    \"\"\"\n",
    "    Simula la colección de varias \"personas\" intercambiando figuritas entre sí, donde las repetidas tienen un valor entre 1 y 4.\n",
    "\n",
    "    ARGUMENTOS:\n",
    "\n",
    "    * \"personas\" -- cantidad de personas que coleccionarán el álbum de manera simultánea, intercambiando figuritas entre sí.\n",
    "\n",
    "    * \"fig\" -- cantidad de figuritas diferentes necesarias para llenar el álbum.\n",
    "\n",
    "    * \"fig_sob\" -- cantidad de figuritas que vienen en cada sobre.\n",
    "\n",
    "    * \"sob\" -- cantidad de sobres comprados por turno.\n",
    "\n",
    "    * \"rep_sob\" -- (booleano) representa si en cada sobre pueden encontrarse figuritas repetidas. Este argumento es opcional y está predefinido en \"False\".\n",
    "\n",
    "    * \"graf\" -- (booleano) representa si se imprime una gráfica que representa la cantidad de figuritas diferentes obtenidas en función del tiempo. Este argumento es opcional y está predefinido en \"False\".\n",
    "\n",
    "    * \"lista_valores\" -- lista de listas que representa cuántas figuritas tienen asignadas un mismo valor. Específicamente:\n",
    "\n",
    "                         * en lista_valores[0] se almacena cuántas figuritas tienen valor de intercambio 4.\n",
    "                         * en lista_valores[1] se almacena cuántas figuritas tienen valor de intercambio 3.\n",
    "                         * en lista_valores[2] se almacena cuántas figuritas tienen valor de intercambio 2.\n",
    "                         * en lista_valores[3] se almacena cuántas figuritas tienen valor de intercambio 1.\n",
    "\n",
    "                         Por defecto lista_valores = [2, 29, 170, 469].\n",
    "\n",
    "    SALIDA:\n",
    "\n",
    "    Un lista que representa la cantidad de sobres que necesitó cada coleccionista para completar el álbum.\n",
    "\n",
    "    En caso de que \"graf\" sea \"True\" incluirá una gráfica que representa la cantidad de figuritas diferentes obtenidas en función del tiempo.\n",
    "\n",
    "    NOTA:\n",
    "\n",
    "    Ejecutar coleccion_valor() es equivalente a ejecutar:\n",
    "\n",
    "    coleccion_valor(personas=1, fig=670, fig_sob=5, sob=5,\n",
    "                    rep_sob=False, graf=False,\n",
    "                    lista_valores=[2, 29, 170, 469])\n",
    "\n",
    "    \"\"\"\n",
    "    ### Función auxiliar ###\n",
    "    def llenado_grupal(M):\n",
    "        for i in range(0, personas):\n",
    "            if M[i].completo() == False:\n",
    "                return False\n",
    "        return True\n",
    "\n",
    "    ### Definiendo los coleccionistas ###\n",
    "    if rep_sob: # Si los sobres pueden contener repetidas:\n",
    "        M = [ColeccionistaValorRepetidas(fig, fig_sob, sob, lista_valores) for i in range(0, personas)]\n",
    "    else: # Si los sobres no pueden contener repetidas.\n",
    "        M = [ColeccionistaValor(fig, fig_sob, sob, lista_valores) for i in range(0, personas)]\n",
    "\n",
    "    ### Código principal ###\n",
    "    while not llenado_grupal(M):\n",
    "        for coleccionista in M:\n",
    "            if not coleccionista.completo():\n",
    "                coleccionista.pegar_fig()\n",
    "                coleccionista.act_repetidas()\n",
    "                coleccionista.act_faltantes()\n",
    "                # Intercambios:\n",
    "                for otro_coleccionista in M:\n",
    "                    if otro_coleccionista != coleccionista: # No va a intercambiar figuritas con sí mismo\n",
    "                        coleccionista.intercambiar(otro_coleccionista)\n",
    "                        coleccionista.intercambiar_cruzado(otro_coleccionista)\n",
    "\n",
    "    ### Gráfica ###\n",
    "    if graf:\n",
    "        for coleccionista in M:\n",
    "            plt.plot(coleccionista.cant_fig, color='magenta', marker='o',mfc='pink' )\n",
    "\n",
    "    ### Salida ###\n",
    "    return [coleccionista.cant_sob for coleccionista in M]"
   ]
  },
  {
   "cell_type": "markdown",
   "metadata": {
    "collapsed": false
   },
   "source": [
    "A continuación simularemos cuántos sobres se necesitan para completar el álbum si se pertenece a un grupo de 5 coleccionistas:  \n",
    "\n"
   ]
  },
  {
   "cell_type": "code",
   "execution_count": 9,
   "metadata": {
    "collapsed": false
   },
   "outputs": [
    {
     "data": {
      "text/plain": [
       "[690, 730, 785, 665, 1200]"
      ]
     },
     "execution_count": 9,
     "metadata": {
     },
     "output_type": "execute_result"
    }
   ],
   "source": [
    "coleccion_valor(personas=5)"
   ]
  },
  {
   "cell_type": "markdown",
   "metadata": {
    "collapsed": false
   },
   "source": [
    "Veremos qué tanto afecta el factor de que puedan encontrarse repetidas en un mismo sobre:  \n",
    "\n"
   ]
  },
  {
   "cell_type": "code",
   "execution_count": 10,
   "metadata": {
    "collapsed": false
   },
   "outputs": [
    {
     "data": {
      "text/plain": [
       "[610, 685, 875, 645, 915]"
      ]
     },
     "execution_count": 10,
     "metadata": {
     },
     "output_type": "execute_result"
    }
   ],
   "source": [
    "coleccion_valor(personas=5, rep_sob=True)"
   ]
  },
  {
   "cell_type": "markdown",
   "metadata": {
    "collapsed": false
   },
   "source": [
    "¿Cuál es el promedio de sobres necesarios si se intercambian las figuritas repetidas entre 5 coleccionistas donde cada figurita tiene un valor entre 1 y 4?  \n",
    "\n"
   ]
  },
  {
   "cell_type": "code",
   "execution_count": 12,
   "metadata": {
    "collapsed": false
   },
   "outputs": [
    {
     "data": {
      "text/plain": [
       "[817.7]"
      ]
     },
     "execution_count": 12,
     "metadata": {
     },
     "output_type": "execute_result"
    }
   ],
   "source": [
    "promedios(coleccion_valor, personas=[5], repeticiones=20, graficar=False) # 16.9 seg."
   ]
  },
  {
   "cell_type": "markdown",
   "metadata": {
    "collapsed": false
   },
   "source": [
    "No es un valor muy alentador. Al aumentar el número de coleccionistas no bajó significativamente la cantidad de sobres necesarios para completar el álbum, como sí pasó cuando las repetidas se cambiaban 1:1.  \n",
    "\n",
    "Veamos el gráfico de barras que compara la cantidad de sobres esperada en función al número de coleccionistas:  \n",
    "\n"
   ]
  },
  {
   "cell_type": "code",
   "execution_count": 21,
   "metadata": {
    "collapsed": false
   },
   "outputs": [
    {
     "data": {
      "image/png": "[encoded data removed]",
      "text/plain": [
       "<Figure size 630x450 with 1 Axes>"
      ]
     },
     "execution_count": 21,
     "metadata": {
      "needs_background": "light"
     },
     "output_type": "execute_result"
    }
   ],
   "source": [
    "promedios(coleccion_valor, personas=[1,2,3,4,5,6,7,8,9,10], repeticiones=10)"
   ]
  },
  {
   "cell_type": "markdown",
   "metadata": {
    "collapsed": false
   },
   "source": [
    "### <span style='color:#009ce0'>Conclusión Algoritmo 3:</span>\n",
    "\n",
    "Gráficamente lo podemos notar con claridad: cuando las figuritas tienen valor es prácticamente lo mismo coleccionar solo que cambiar las repetidas. Pero esto no lo podemos afirmar del todo, hay que tener en cuenta las siguientes consideraciones:\n",
    "\n",
    "- Por cómo está implementado el código, solamente se intercambian repetidas de a dos mazos a la vez es decir, que se intercambian dobles con dobles, dobles con triples, simples con cuádruples... Pero se deja afuera la posibilidad de, por ejemplo, cambiar una cuádruple por dos simples y una doble. Sabemos que en realidad podía darse casos de este estilo y esto no está reflejado en las simulaciones. Desconocemos con qué tanta frecuencia ocurren estos intercambios y por ello no podemos definir qué tan probable sea un reflejo de la realidad estas simulaciones.\n",
    "- Muchas veces ocurre que algunos coleccionistas que completaron su álbum son bastantes amables y por ayudar a otro coleccionista dan sus figuritas repetidas y reciben a cambio cualquier combinación de figuritas \\(pues ya tiene todas\\). Nuevamente desconocemos con qué frecuencia pasa esto \\(estimamos que baja en general pero entre grupos de amigos puede ser alta\\) y por lo tanto también podría ser un factor clave que afecta la precisión de la simulación.\n",
    "- En la vida real la cantidad de personas con las que uno puede intercambiar es casi ilimitada, mientras que aca es un numero fijo y constante. Esto haría que varíe la esperanza, y además teniendo en cuenta que el valor de la figurita puede cambiar según la persona.\n",
    "\n",
    "Usamos el modelo de esta manera porque es imposible considerar todas las alternativas y se vuelve computacionalmente muy pesado.  \n",
    "\n"
   ]
  }
 ],
 "metadata": {
  "kernelspec": {
   "display_name": "SageMath",
   "language": "sagemath",
   "metadata": {
    "cocalc": {
     "description": "Open-source mathematical software system",
     "priority": 1,
     "url": "https://www.sagemath.org/"
    }
   },
   "name": "sagemath",
   "resource_dir": "/usr/local/share/jupyter/kernels/sagemath"
  },
  "language_info": {
   "codemirror_mode": {
    "name": "ipython",
    "version": 3
   },
   "file_extension": ".py",
   "mimetype": "text/x-python",
   "name": "python",
   "nbconvert_exporter": "python",
   "pygments_lexer": "ipython3",
   "version": "3.8.10"
  }
 },
 "nbformat": 4,
 "nbformat_minor": 4
}